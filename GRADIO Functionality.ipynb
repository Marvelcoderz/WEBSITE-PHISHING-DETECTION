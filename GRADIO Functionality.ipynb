{
 "cells": [
  {
   "cell_type": "markdown",
   "id": "494e20d9-84ec-4dff-84b2-59eb610805e9",
   "metadata": {},
   "source": [
    "## GRADIO FUNCTIONALITY"
   ]
  },
  {
   "cell_type": "code",
   "execution_count": 6,
   "id": "c157b654-2cc2-4113-90d9-92dad3cddb8a",
   "metadata": {},
   "outputs": [
    {
     "name": "stdout",
     "output_type": "stream",
     "text": [
      "Requirement already satisfied: anaconda-cloud-auth in c:\\users\\khushi\\anaconda3\\lib\\site-packages (0.1.4)\n",
      "Collecting anaconda-cloud-auth\n",
      "  Downloading anaconda_cloud_auth-0.5.1-py3-none-any.whl.metadata (10 kB)\n",
      "Requirement already satisfied: cryptography>=3.4.0 in c:\\users\\khushi\\anaconda3\\lib\\site-packages (from anaconda-cloud-auth) (42.0.2)\n",
      "Requirement already satisfied: keyring in c:\\users\\khushi\\anaconda3\\lib\\site-packages (from anaconda-cloud-auth) (23.13.1)\n",
      "Requirement already satisfied: pkce in c:\\users\\khushi\\anaconda3\\lib\\site-packages (from anaconda-cloud-auth) (1.0.3)\n",
      "Requirement already satisfied: pydantic in c:\\users\\khushi\\anaconda3\\lib\\site-packages (from anaconda-cloud-auth) (2.8.2)\n",
      "Requirement already satisfied: pyjwt in c:\\users\\khushi\\anaconda3\\lib\\site-packages (from anaconda-cloud-auth) (2.4.0)\n",
      "Requirement already satisfied: python-dotenv in c:\\users\\khushi\\anaconda3\\lib\\site-packages (from anaconda-cloud-auth) (0.21.0)\n",
      "Requirement already satisfied: requests in c:\\users\\khushi\\anaconda3\\lib\\site-packages (from anaconda-cloud-auth) (2.31.0)\n",
      "Requirement already satisfied: semver<4 in c:\\users\\khushi\\anaconda3\\lib\\site-packages (from anaconda-cloud-auth) (2.13.0)\n",
      "Requirement already satisfied: cffi>=1.12 in c:\\users\\khushi\\anaconda3\\lib\\site-packages (from cryptography>=3.4.0->anaconda-cloud-auth) (1.16.0)\n",
      "Requirement already satisfied: jaraco.classes in c:\\users\\khushi\\anaconda3\\lib\\site-packages (from keyring->anaconda-cloud-auth) (3.2.1)\n",
      "Requirement already satisfied: importlib-metadata>=4.11.4 in c:\\users\\khushi\\anaconda3\\lib\\site-packages (from keyring->anaconda-cloud-auth) (7.0.1)\n",
      "Requirement already satisfied: pywin32-ctypes>=0.2.0 in c:\\users\\khushi\\anaconda3\\lib\\site-packages (from keyring->anaconda-cloud-auth) (0.2.0)\n",
      "Requirement already satisfied: annotated-types>=0.4.0 in c:\\users\\khushi\\anaconda3\\lib\\site-packages (from pydantic->anaconda-cloud-auth) (0.7.0)\n",
      "Requirement already satisfied: pydantic-core==2.20.1 in c:\\users\\khushi\\anaconda3\\lib\\site-packages (from pydantic->anaconda-cloud-auth) (2.20.1)\n",
      "Requirement already satisfied: typing-extensions>=4.6.1 in c:\\users\\khushi\\anaconda3\\lib\\site-packages (from pydantic->anaconda-cloud-auth) (4.9.0)\n",
      "Requirement already satisfied: charset-normalizer<4,>=2 in c:\\users\\khushi\\anaconda3\\lib\\site-packages (from requests->anaconda-cloud-auth) (2.0.4)\n",
      "Requirement already satisfied: idna<4,>=2.5 in c:\\users\\khushi\\anaconda3\\lib\\site-packages (from requests->anaconda-cloud-auth) (3.4)\n",
      "Requirement already satisfied: urllib3<3,>=1.21.1 in c:\\users\\khushi\\anaconda3\\lib\\site-packages (from requests->anaconda-cloud-auth) (2.0.7)\n",
      "Requirement already satisfied: certifi>=2017.4.17 in c:\\users\\khushi\\anaconda3\\lib\\site-packages (from requests->anaconda-cloud-auth) (2024.2.2)\n",
      "Requirement already satisfied: pycparser in c:\\users\\khushi\\anaconda3\\lib\\site-packages (from cffi>=1.12->cryptography>=3.4.0->anaconda-cloud-auth) (2.21)\n",
      "Requirement already satisfied: zipp>=0.5 in c:\\users\\khushi\\anaconda3\\lib\\site-packages (from importlib-metadata>=4.11.4->keyring->anaconda-cloud-auth) (3.17.0)\n",
      "Requirement already satisfied: more-itertools in c:\\users\\khushi\\anaconda3\\lib\\site-packages (from jaraco.classes->keyring->anaconda-cloud-auth) (10.1.0)\n",
      "Downloading anaconda_cloud_auth-0.5.1-py3-none-any.whl (24 kB)\n",
      "Installing collected packages: anaconda-cloud-auth\n",
      "  Attempting uninstall: anaconda-cloud-auth\n",
      "    Found existing installation: anaconda-cloud-auth 0.1.4\n",
      "    Uninstalling anaconda-cloud-auth-0.1.4:\n",
      "      Successfully uninstalled anaconda-cloud-auth-0.1.4\n",
      "Successfully installed anaconda-cloud-auth-0.5.1\n",
      "Note: you may need to restart the kernel to use updated packages.\n"
     ]
    }
   ],
   "source": [
    "pip install --upgrade anaconda-cloud-auth\n"
   ]
  },
  {
   "cell_type": "code",
   "execution_count": 9,
   "id": "db73fa51-399e-43c2-9012-b5d8e3792d4d",
   "metadata": {},
   "outputs": [],
   "source": [
    "# The accuracy is higher for XGBoost model.\n",
    "#XGBoost Classification model\n",
    "from xgboost import XGBClassifier\n",
    "\n",
    "# instantiate the model\n",
    "xgb = XGBClassifier(learning_rate=0.4,max_depth=7)\n",
    "# save XGBoost model to file\n",
    "import pickle\n",
    "pickle.dump(xgb, open(\"XGBoostClassifier.pickle.dat\", \"wb\"))"
   ]
  },
  {
   "cell_type": "code",
   "execution_count": 10,
   "id": "460f19d0-1f59-4fb7-a633-4ac945256b01",
   "metadata": {},
   "outputs": [
    {
     "data": {
      "text/html": [
       "<style>#sk-container-id-1 {color: black;background-color: white;}#sk-container-id-1 pre{padding: 0;}#sk-container-id-1 div.sk-toggleable {background-color: white;}#sk-container-id-1 label.sk-toggleable__label {cursor: pointer;display: block;width: 100%;margin-bottom: 0;padding: 0.3em;box-sizing: border-box;text-align: center;}#sk-container-id-1 label.sk-toggleable__label-arrow:before {content: \"▸\";float: left;margin-right: 0.25em;color: #696969;}#sk-container-id-1 label.sk-toggleable__label-arrow:hover:before {color: black;}#sk-container-id-1 div.sk-estimator:hover label.sk-toggleable__label-arrow:before {color: black;}#sk-container-id-1 div.sk-toggleable__content {max-height: 0;max-width: 0;overflow: hidden;text-align: left;background-color: #f0f8ff;}#sk-container-id-1 div.sk-toggleable__content pre {margin: 0.2em;color: black;border-radius: 0.25em;background-color: #f0f8ff;}#sk-container-id-1 input.sk-toggleable__control:checked~div.sk-toggleable__content {max-height: 200px;max-width: 100%;overflow: auto;}#sk-container-id-1 input.sk-toggleable__control:checked~label.sk-toggleable__label-arrow:before {content: \"▾\";}#sk-container-id-1 div.sk-estimator input.sk-toggleable__control:checked~label.sk-toggleable__label {background-color: #d4ebff;}#sk-container-id-1 div.sk-label input.sk-toggleable__control:checked~label.sk-toggleable__label {background-color: #d4ebff;}#sk-container-id-1 input.sk-hidden--visually {border: 0;clip: rect(1px 1px 1px 1px);clip: rect(1px, 1px, 1px, 1px);height: 1px;margin: -1px;overflow: hidden;padding: 0;position: absolute;width: 1px;}#sk-container-id-1 div.sk-estimator {font-family: monospace;background-color: #f0f8ff;border: 1px dotted black;border-radius: 0.25em;box-sizing: border-box;margin-bottom: 0.5em;}#sk-container-id-1 div.sk-estimator:hover {background-color: #d4ebff;}#sk-container-id-1 div.sk-parallel-item::after {content: \"\";width: 100%;border-bottom: 1px solid gray;flex-grow: 1;}#sk-container-id-1 div.sk-label:hover label.sk-toggleable__label {background-color: #d4ebff;}#sk-container-id-1 div.sk-serial::before {content: \"\";position: absolute;border-left: 1px solid gray;box-sizing: border-box;top: 0;bottom: 0;left: 50%;z-index: 0;}#sk-container-id-1 div.sk-serial {display: flex;flex-direction: column;align-items: center;background-color: white;padding-right: 0.2em;padding-left: 0.2em;position: relative;}#sk-container-id-1 div.sk-item {position: relative;z-index: 1;}#sk-container-id-1 div.sk-parallel {display: flex;align-items: stretch;justify-content: center;background-color: white;position: relative;}#sk-container-id-1 div.sk-item::before, #sk-container-id-1 div.sk-parallel-item::before {content: \"\";position: absolute;border-left: 1px solid gray;box-sizing: border-box;top: 0;bottom: 0;left: 50%;z-index: -1;}#sk-container-id-1 div.sk-parallel-item {display: flex;flex-direction: column;z-index: 1;position: relative;background-color: white;}#sk-container-id-1 div.sk-parallel-item:first-child::after {align-self: flex-end;width: 50%;}#sk-container-id-1 div.sk-parallel-item:last-child::after {align-self: flex-start;width: 50%;}#sk-container-id-1 div.sk-parallel-item:only-child::after {width: 0;}#sk-container-id-1 div.sk-dashed-wrapped {border: 1px dashed gray;margin: 0 0.4em 0.5em 0.4em;box-sizing: border-box;padding-bottom: 0.4em;background-color: white;}#sk-container-id-1 div.sk-label label {font-family: monospace;font-weight: bold;display: inline-block;line-height: 1.2em;}#sk-container-id-1 div.sk-label-container {text-align: center;}#sk-container-id-1 div.sk-container {/* jupyter's `normalize.less` sets `[hidden] { display: none; }` but bootstrap.min.css set `[hidden] { display: none !important; }` so we also need the `!important` here to be able to override the default hidden behavior on the sphinx rendered scikit-learn.org. See: https://github.com/scikit-learn/scikit-learn/issues/21755 */display: inline-block !important;position: relative;}#sk-container-id-1 div.sk-text-repr-fallback {display: none;}</style><div id=\"sk-container-id-1\" class=\"sk-top-container\"><div class=\"sk-text-repr-fallback\"><pre>XGBClassifier(base_score=None, booster=None, callbacks=None,\n",
       "              colsample_bylevel=None, colsample_bynode=None,\n",
       "              colsample_bytree=None, device=None, early_stopping_rounds=None,\n",
       "              enable_categorical=False, eval_metric=None, feature_types=None,\n",
       "              gamma=None, grow_policy=None, importance_type=None,\n",
       "              interaction_constraints=None, learning_rate=0.4, max_bin=None,\n",
       "              max_cat_threshold=None, max_cat_to_onehot=None,\n",
       "              max_delta_step=None, max_depth=7, max_leaves=None,\n",
       "              min_child_weight=None, missing=nan, monotone_constraints=None,\n",
       "              multi_strategy=None, n_estimators=None, n_jobs=None,\n",
       "              num_parallel_tree=None, random_state=None, ...)</pre><b>In a Jupyter environment, please rerun this cell to show the HTML representation or trust the notebook. <br />On GitHub, the HTML representation is unable to render, please try loading this page with nbviewer.org.</b></div><div class=\"sk-container\" hidden><div class=\"sk-item\"><div class=\"sk-estimator sk-toggleable\"><input class=\"sk-toggleable__control sk-hidden--visually\" id=\"sk-estimator-id-1\" type=\"checkbox\" checked><label for=\"sk-estimator-id-1\" class=\"sk-toggleable__label sk-toggleable__label-arrow\">XGBClassifier</label><div class=\"sk-toggleable__content\"><pre>XGBClassifier(base_score=None, booster=None, callbacks=None,\n",
       "              colsample_bylevel=None, colsample_bynode=None,\n",
       "              colsample_bytree=None, device=None, early_stopping_rounds=None,\n",
       "              enable_categorical=False, eval_metric=None, feature_types=None,\n",
       "              gamma=None, grow_policy=None, importance_type=None,\n",
       "              interaction_constraints=None, learning_rate=0.4, max_bin=None,\n",
       "              max_cat_threshold=None, max_cat_to_onehot=None,\n",
       "              max_delta_step=None, max_depth=7, max_leaves=None,\n",
       "              min_child_weight=None, missing=nan, monotone_constraints=None,\n",
       "              multi_strategy=None, n_estimators=None, n_jobs=None,\n",
       "              num_parallel_tree=None, random_state=None, ...)</pre></div></div></div></div></div>"
      ],
      "text/plain": [
       "XGBClassifier(base_score=None, booster=None, callbacks=None,\n",
       "              colsample_bylevel=None, colsample_bynode=None,\n",
       "              colsample_bytree=None, device=None, early_stopping_rounds=None,\n",
       "              enable_categorical=False, eval_metric=None, feature_types=None,\n",
       "              gamma=None, grow_policy=None, importance_type=None,\n",
       "              interaction_constraints=None, learning_rate=0.4, max_bin=None,\n",
       "              max_cat_threshold=None, max_cat_to_onehot=None,\n",
       "              max_delta_step=None, max_depth=7, max_leaves=None,\n",
       "              min_child_weight=None, missing=nan, monotone_constraints=None,\n",
       "              multi_strategy=None, n_estimators=None, n_jobs=None,\n",
       "              num_parallel_tree=None, random_state=None, ...)"
      ]
     },
     "execution_count": 10,
     "metadata": {},
     "output_type": "execute_result"
    }
   ],
   "source": [
    "## The accuracy is higher for XGBoost model.\n",
    "#XGBoost Classification model\n",
    "from xgboost import XGBClassifier\n",
    "\n",
    "# instantiate the model\n",
    "xgb = XGBClassifier(learning_rate=0.4,max_depth=7)\n",
    "# save XGBoost model to file\n",
    "import pickle\n",
    "pickle.dump(xgb, open(\"XGBoostClassifier.pickle.dat\", \"wb\"))"
   ]
  },
  {
   "cell_type": "code",
   "execution_count": 18,
   "id": "7dba87eb-a2c7-45ae-836f-911df9c9ae7f",
   "metadata": {},
   "outputs": [
    {
     "name": "stdout",
     "output_type": "stream",
     "text": [
      "Requirement already satisfied: xgboost in c:\\users\\khushi\\anaconda3\\lib\\site-packages (2.1.1)Note: you may need to restart the kernel to use updated packages.\n",
      "\n",
      "Requirement already satisfied: numpy in c:\\users\\khushi\\anaconda3\\lib\\site-packages (from xgboost) (1.26.4)\n",
      "Requirement already satisfied: scipy in c:\\users\\khushi\\anaconda3\\lib\\site-packages (from xgboost) (1.11.4)\n"
     ]
    }
   ],
   "source": [
    "pip install --upgrade xgboost\n"
   ]
  },
  {
   "cell_type": "code",
   "execution_count": 19,
   "id": "9117443c-40f1-4ab4-b948-2c638ffdc4b2",
   "metadata": {},
   "outputs": [
    {
     "name": "stderr",
     "output_type": "stream",
     "text": [
      "C:\\Users\\Khushi\\anaconda3\\Lib\\site-packages\\xgboost\\core.py:158: UserWarning: [19:02:58] WARNING: C:\\buildkite-agent\\builds\\buildkite-windows-cpu-autoscaling-group-i-0015a694724fa8361-1\\xgboost\\xgboost-ci-windows\\src\\learner.cc:740: \n",
      "Parameters: { \"use_label_encoder\" } are not used.\n",
      "\n",
      "  warnings.warn(smsg, UserWarning)\n"
     ]
    },
    {
     "name": "stdout",
     "output_type": "stream",
     "text": [
      "Model Accuracy: 87.36%\n"
     ]
    },
    {
     "data": {
      "text/plain": [
       "['xgb_phishing_model.pkl']"
      ]
     },
     "execution_count": 19,
     "metadata": {},
     "output_type": "execute_result"
    }
   ],
   "source": [
    "import pandas as pd\n",
    "import xgboost as xgb\n",
    "from sklearn.model_selection import train_test_split\n",
    "from sklearn.metrics import accuracy_score\n",
    "import joblib\n",
    "\n",
    "# Load dataset\n",
    "data = pd.read_csv(r\"C:\\Users\\Khushi\\OneDrive\\Desktop\\phising dataset\\dataset2.csv\")\n",
    "\n",
    "# Features and target\n",
    "X = data[['url_length', 'n_dots', 'n_slash']]\n",
    "y = data['phishing']\n",
    "\n",
    "# Split dataset\n",
    "X_train, X_test, y_train, y_test = train_test_split(X, y, test_size=0.2, random_state=42)\n",
    "\n",
    "# Train XGBoost model\n",
    "model = xgb.XGBClassifier(use_label_encoder=False, eval_metric='logloss')\n",
    "model.fit(X_train, y_train)\n",
    "\n",
    "# Test the model (optional)\n",
    "y_pred = model.predict(X_test)\n",
    "accuracy = accuracy_score(y_test, y_pred)\n",
    "print(f\"Model Accuracy: {accuracy * 100:.2f}%\")\n",
    "\n",
    "# Save model\n",
    "joblib.dump(model, \"xgb_phishing_model.pkl\")\n"
   ]
  },
  {
   "cell_type": "code",
   "execution_count": 20,
   "id": "733471ff-f734-424a-bbe8-bfc8f67b175b",
   "metadata": {},
   "outputs": [],
   "source": [
    "import joblib\n",
    "import gradio as gr\n",
    "\n",
    "# Load the trained XGBoost model\n",
    "model = joblib.load(\"xgb_phishing_model.pkl\")\n",
    "\n",
    "# Define the prediction function\n",
    "def predict_phishing(url_length, n_dots, n_slash):\n",
    "    features = [[url_length, n_dots, n_slash]]\n",
    "    prediction = model.predict(features)\n",
    "    return \"Phishing\" if prediction[0] == 1 else \"Legitimate\"\n"
   ]
  },
  {
   "cell_type": "code",
   "execution_count": 22,
   "id": "131417ef-ccba-40be-896d-7aff9ba27a06",
   "metadata": {},
   "outputs": [
    {
     "name": "stdout",
     "output_type": "stream",
     "text": [
      "Running on local URL:  http://127.0.0.1:7866\n",
      "\n",
      "To create a public link, set `share=True` in `launch()`.\n"
     ]
    },
    {
     "data": {
      "text/html": [
       "<div><iframe src=\"http://127.0.0.1:7866/\" width=\"100%\" height=\"500\" allow=\"autoplay; camera; microphone; clipboard-read; clipboard-write;\" frameborder=\"0\" allowfullscreen></iframe></div>"
      ],
      "text/plain": [
       "<IPython.core.display.HTML object>"
      ]
     },
     "metadata": {},
     "output_type": "display_data"
    }
   ],
   "source": [
    "# Create the Gradio interface\n",
    "iface = gr.Interface(\n",
    "    fn=predict_phishing, \n",
    "    inputs=[\n",
    "        gr.Number(label=\"URL Length\"),\n",
    "        gr.Number(label=\"Number of Dots in URL\"),\n",
    "        gr.Number(label=\"Number of Slashes in URL\")\n",
    "    ], \n",
    "    outputs=gr.Textbox(label=\"Prediction\"),\n",
    "    title=\"Phishing Detection\",\n",
    "    description=\"Enter the features of the URL to check if it's phishing or legitimate.\"\n",
    ")\n",
    "if __name__ == \"__main__\":\n",
    "    iface.launch()\n",
    "\n"
   ]
  },
  {
   "cell_type": "code",
   "execution_count": null,
   "id": "407d543c-ca6a-454d-8f50-361475d534b3",
   "metadata": {},
   "outputs": [],
   "source": [
    "## Checking the Accuracy of the Model\n",
    "## In the above example ,I have taken an fake e-visa URL to check whether the model is working accurately or not.\n",
    "## URL GIVEN AS INPUT:\n",
    "## http://evisaindia.in/\n",
    "\n"
   ]
  }
 ],
 "metadata": {
  "kernelspec": {
   "display_name": "Python 3 (ipykernel)",
   "language": "python",
   "name": "python3"
  },
  "language_info": {
   "codemirror_mode": {
    "name": "ipython",
    "version": 3
   },
   "file_extension": ".py",
   "mimetype": "text/x-python",
   "name": "python",
   "nbconvert_exporter": "python",
   "pygments_lexer": "ipython3",
   "version": "3.11.7"
  }
 },
 "nbformat": 4,
 "nbformat_minor": 5
}
